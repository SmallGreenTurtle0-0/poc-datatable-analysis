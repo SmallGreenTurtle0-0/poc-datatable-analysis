{
 "cells": [
  {
   "cell_type": "code",
   "execution_count": null,
   "metadata": {},
   "outputs": [],
   "source": [
    "import os\n",
    "import sys\n",
    "\n",
    "sys.path.append(os.path.abspath(\"/home/hahoang/Desktop/Upwork/poc-datatable-analysis\"))\n",
    "%cd /home/hahoang/Desktop/Upwork/poc-datatable-analysis\n"
   ]
  },
  {
   "cell_type": "code",
   "execution_count": null,
   "metadata": {},
   "outputs": [],
   "source": [
    "from app.externals.agents.table_summarization.states import TableSummarizationState\n",
    "a = TableSummarizationState(\n",
    "    {\n",
    "        \"question\": \"Hello\"\n",
    "    }\n",
    ")\n",
    "print(a.get(\"response\"))\n",
    "print(a.get(\"question\"))\n"
   ]
  },
  {
   "cell_type": "code",
   "execution_count": null,
   "metadata": {},
   "outputs": [],
   "source": [
    "from app.utils.datatable.table_info import get_column_descriptions\n",
    "\n",
    "get_column_descriptions()"
   ]
  },
  {
   "cell_type": "code",
   "execution_count": null,
   "metadata": {},
   "outputs": [],
   "source": [
    "from app.utils.datatable.table_info import get_table_data\n",
    "\n",
    "get_table_data()"
   ]
  },
  {
   "cell_type": "code",
   "execution_count": null,
   "metadata": {},
   "outputs": [],
   "source": []
  }
 ],
 "metadata": {
  "kernelspec": {
   "display_name": "poc-datatable-analysis",
   "language": "python",
   "name": "python3"
  },
  "language_info": {
   "codemirror_mode": {
    "name": "ipython",
    "version": 3
   },
   "file_extension": ".py",
   "mimetype": "text/x-python",
   "name": "python",
   "nbconvert_exporter": "python",
   "pygments_lexer": "ipython3",
   "version": "3.12.7"
  }
 },
 "nbformat": 4,
 "nbformat_minor": 2
}
