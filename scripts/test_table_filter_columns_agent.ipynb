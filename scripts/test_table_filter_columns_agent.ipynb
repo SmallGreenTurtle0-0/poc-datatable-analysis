{
 "cells": [
  {
   "cell_type": "code",
   "execution_count": 1,
   "metadata": {},
   "outputs": [
    {
     "name": "stdout",
     "output_type": "stream",
     "text": [
      "D:\\WorkSpace\\ChiHa\\poc-datatable-analysis\n"
     ]
    },
    {
     "name": "stderr",
     "output_type": "stream",
     "text": [
      "d:\\anaconda\\envs\\ai_agent\\Lib\\site-packages\\IPython\\core\\magics\\osm.py:417: UserWarning: This is now an optional IPython functionality, setting dhist requires you to install the `pickleshare` library.\n",
      "  self.shell.db['dhist'] = compress_dhist(dhist)[-100:]\n"
     ]
    }
   ],
   "source": [
    "import os\n",
    "import sys\n",
    "\n",
    "sys.path.append(os.path.abspath(\"D:/WorkSpace/ChiHa/poc-datatable-analysis\"))\n",
    "%cd D:/WorkSpace/ChiHa/poc-datatable-analysis"
   ]
  },
  {
   "cell_type": "code",
   "execution_count": 2,
   "metadata": {},
   "outputs": [
    {
     "name": "stderr",
     "output_type": "stream",
     "text": [
      "\u001b[32m2025-03-03 21:52:21.661\u001b[0m | \u001b[1mINFO    \u001b[0m | \u001b[36mapp.configs.settings\u001b[0m:\u001b[36m_initialize\u001b[0m:\u001b[36m21\u001b[0m - \u001b[1mInitializing settings\u001b[0m\n",
      "\u001b[32m2025-03-03 21:52:21.661\u001b[0m | \u001b[1mINFO    \u001b[0m | \u001b[36mapp.configs.settings\u001b[0m:\u001b[36m_initialize\u001b[0m:\u001b[36m23\u001b[0m - \u001b[1mSettings successfully loaded.\u001b[0m\n",
      "\u001b[32m2025-03-03 21:52:21.662\u001b[0m | \u001b[1mINFO    \u001b[0m | \u001b[36mapp.configs.llm\u001b[0m:\u001b[36m_init_llm_gpt_4o_mini\u001b[0m:\u001b[36m11\u001b[0m - \u001b[1mInitialize OpenAI Chat GPT\u001b[0m\n",
      "\u001b[32m2025-03-03 21:52:22.220\u001b[0m | \u001b[1mINFO    \u001b[0m | \u001b[36mapp.configs.llm\u001b[0m:\u001b[36m_init_llm_llama_32\u001b[0m:\u001b[36m27\u001b[0m - \u001b[1mInitialize Ollama: model Llama 3.2\u001b[0m\n",
      "\u001b[32m2025-03-03 21:52:22.735\u001b[0m | \u001b[1mINFO    \u001b[0m | \u001b[36mapp.configs.llm\u001b[0m:\u001b[36m_init_llm_llama_321b\u001b[0m:\u001b[36m42\u001b[0m - \u001b[1mInitialize Ollama: model Llama 3.2.1b\u001b[0m\n",
      "d:\\anaconda\\envs\\ai_agent\\Lib\\site-packages\\pydantic\\_internal\\_generate_schema.py:502: UserWarning: typing.NotRequired is not a Python type (it may be an instance of an object), Pydantic will allow any object with no validation since we cannot even enforce that the input is an instance of the given type. To get rid of this error wrap the type with `pydantic.SkipValidation`.\n",
      "  warn(\n",
      "d:\\anaconda\\envs\\ai_agent\\Lib\\site-packages\\pydantic\\_internal\\_generate_schema.py:502: UserWarning: typing.NotRequired is not a Python type (it may be an instance of an object), Pydantic will allow any object with no validation since we cannot even enforce that the input is an instance of the given type. To get rid of this error wrap the type with `pydantic.SkipValidation`.\n",
      "  warn(\n"
     ]
    },
    {
     "data": {
      "image/png": "[encoded data removed]",
      "text/plain": [
       "<IPython.core.display.Image object>"
      ]
     },
     "metadata": {},
     "output_type": "display_data"
    }
   ],
   "source": [
    "from app.externals.agents.table_filter_column.workflow_manager import Workflow \n",
    "table_filter_column_agent = Workflow()\n",
    "table_filter_column_agent.display_graph(table_filter_column_agent.graph)"
   ]
  },
  {
   "cell_type": "code",
   "execution_count": 3,
   "metadata": {},
   "outputs": [],
   "source": [
    "result = await table_filter_column_agent.run_agent(\n",
    "    question=\"Give me info about the win loss column\"\n",
    ")"
   ]
  },
  {
   "cell_type": "code",
   "execution_count": 4,
   "metadata": {},
   "outputs": [
    {
     "name": "stdout",
     "output_type": "stream",
     "text": [
      "   Summary_RealWL\n",
      "0    2.284330e+02\n",
      "1    1.075353e+05\n",
      "2    4.437790e+06\n",
      "3    2.905123e+06\n",
      "4    1.104632e+04\n",
      "5    4.661500e+00\n",
      "6    1.004476e+05\n",
      "7    8.097859e+03\n",
      "8    2.345126e+07\n",
      "9    5.071499e+05\n"
     ]
    }
   ],
   "source": [
    "print(result[\"response\"])"
   ]
  },
  {
   "cell_type": "code",
   "execution_count": null,
   "metadata": {},
   "outputs": [],
   "source": []
  }
 ],
 "metadata": {
  "kernelspec": {
   "display_name": "ai_agent",
   "language": "python",
   "name": "python3"
  },
  "language_info": {
   "codemirror_mode": {
    "name": "ipython",
    "version": 3
   },
   "file_extension": ".py",
   "mimetype": "text/x-python",
   "name": "python",
   "nbconvert_exporter": "python",
   "pygments_lexer": "ipython3",
   "version": "3.11.11"
  }
 },
 "nbformat": 4,
 "nbformat_minor": 2
}
