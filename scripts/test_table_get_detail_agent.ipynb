{
 "cells": [
  {
   "cell_type": "code",
   "execution_count": 1,
   "metadata": {},
   "outputs": [
    {
     "name": "stdout",
     "output_type": "stream",
     "text": [
      "D:\\WorkSpace\\ChiHa\\poc-datatable-analysis\n"
     ]
    },
    {
     "name": "stderr",
     "output_type": "stream",
     "text": [
      "d:\\anaconda\\envs\\ai_agent\\Lib\\site-packages\\IPython\\core\\magics\\osm.py:417: UserWarning: This is now an optional IPython functionality, setting dhist requires you to install the `pickleshare` library.\n",
      "  self.shell.db['dhist'] = compress_dhist(dhist)[-100:]\n"
     ]
    }
   ],
   "source": [
    "import os\n",
    "import sys\n",
    "\n",
    "sys.path.append(os.path.abspath(\"D:/WorkSpace/ChiHa/poc-datatable-analysis\"))\n",
    "%cd D:/WorkSpace/ChiHa/poc-datatable-analysis"
   ]
  },
  {
   "cell_type": "code",
   "execution_count": 2,
   "metadata": {},
   "outputs": [
    {
     "name": "stderr",
     "output_type": "stream",
     "text": [
      "\u001b[32m2025-03-03 20:41:47.910\u001b[0m | \u001b[1mINFO    \u001b[0m | \u001b[36mapp.configs.settings\u001b[0m:\u001b[36m_initialize\u001b[0m:\u001b[36m21\u001b[0m - \u001b[1mInitializing settings\u001b[0m\n",
      "\u001b[32m2025-03-03 20:41:47.910\u001b[0m | \u001b[1mINFO    \u001b[0m | \u001b[36mapp.configs.settings\u001b[0m:\u001b[36m_initialize\u001b[0m:\u001b[36m23\u001b[0m - \u001b[1mSettings successfully loaded.\u001b[0m\n",
      "\u001b[32m2025-03-03 20:41:47.913\u001b[0m | \u001b[1mINFO    \u001b[0m | \u001b[36mapp.configs.llm\u001b[0m:\u001b[36m_init_llm_gpt_4o_mini\u001b[0m:\u001b[36m11\u001b[0m - \u001b[1mInitialize OpenAI Chat GPT\u001b[0m\n",
      "\u001b[32m2025-03-03 20:41:48.348\u001b[0m | \u001b[1mINFO    \u001b[0m | \u001b[36mapp.configs.llm\u001b[0m:\u001b[36m_init_llm_llama_32\u001b[0m:\u001b[36m27\u001b[0m - \u001b[1mInitialize Ollama: model Llama 3.2\u001b[0m\n",
      "\u001b[32m2025-03-03 20:41:48.770\u001b[0m | \u001b[1mINFO    \u001b[0m | \u001b[36mapp.configs.llm\u001b[0m:\u001b[36m_init_llm_llama_321b\u001b[0m:\u001b[36m42\u001b[0m - \u001b[1mInitialize Ollama: model Llama 3.2.1b\u001b[0m\n",
      "d:\\anaconda\\envs\\ai_agent\\Lib\\site-packages\\pydantic\\_internal\\_generate_schema.py:502: UserWarning: typing.NotRequired is not a Python type (it may be an instance of an object), Pydantic will allow any object with no validation since we cannot even enforce that the input is an instance of the given type. To get rid of this error wrap the type with `pydantic.SkipValidation`.\n",
      "  warn(\n",
      "d:\\anaconda\\envs\\ai_agent\\Lib\\site-packages\\pydantic\\_internal\\_generate_schema.py:502: UserWarning: typing.NotRequired is not a Python type (it may be an instance of an object), Pydantic will allow any object with no validation since we cannot even enforce that the input is an instance of the given type. To get rid of this error wrap the type with `pydantic.SkipValidation`.\n",
      "  warn(\n"
     ]
    },
    {
     "data": {
      "image/png": "[encoded data removed]",
      "text/plain": [
       "<IPython.core.display.Image object>"
      ]
     },
     "metadata": {},
     "output_type": "display_data"
    }
   ],
   "source": [
    "from app.externals.agents.table_get_detail.workflow_manager import Workflow \n",
    "table_get_detail_agent = Workflow()\n",
    "table_get_detail_agent.display_graph(table_get_detail_agent.graph)"
   ]
  },
  {
   "cell_type": "code",
   "execution_count": 5,
   "metadata": {},
   "outputs": [],
   "source": [
    "result = await table_get_detail_agent.run_agent(\n",
    "    question=\"Give me info about the win loss column\"\n",
    ")"
   ]
  },
  {
   "cell_type": "code",
   "execution_count": 6,
   "metadata": {},
   "outputs": [
    {
     "name": "stdout",
     "output_type": "stream",
     "text": [
      "## **Summary of Win/Loss Column**\n",
      "\n",
      "The `Summary_RealWL` column displays the total win/loss amount for each group. The values range from $4.661500000000046 to $2905123.0777000003.\n",
      "\n",
      "### **Key Trends and Patterns:**\n",
      "\n",
      "1.  **Variability in Wins and Losses:** There is a significant variation in the `Summary_RealWL` values among different groups, indicating that some groups have more wins than losses, while others have more losses.\n",
      "2.  **Group with Most Significant Win/Loss Difference:** Group ID 3 has the highest win/loss amount ($2905123.0777000003), suggesting a significant difference in their performance compared to other groups.\n",
      "\n",
      "### **Numerical Summary:**\n",
      "\n",
      "The average win/loss amount across all groups is $1034.96, indicating a moderate level of wins and losses overall. The median value is not provided due to the large range of values, but it can be inferred that some groups have much higher or lower win/loss amounts than others.\n",
      "\n",
      "Note: Since the data does not provide standard deviation or variance calculations for the `Summary_RealWL` column, these numerical summaries are based on a basic understanding of the data distribution.\n"
     ]
    }
   ],
   "source": [
    "print(result[\"response\"].content)"
   ]
  },
  {
   "cell_type": "code",
   "execution_count": null,
   "metadata": {},
   "outputs": [],
   "source": []
  }
 ],
 "metadata": {
  "kernelspec": {
   "display_name": "ai_agent",
   "language": "python",
   "name": "python3"
  },
  "language_info": {
   "codemirror_mode": {
    "name": "ipython",
    "version": 3
   },
   "file_extension": ".py",
   "mimetype": "text/x-python",
   "name": "python",
   "nbconvert_exporter": "python",
   "pygments_lexer": "ipython3",
   "version": "3.11.11"
  }
 },
 "nbformat": 4,
 "nbformat_minor": 2
}
